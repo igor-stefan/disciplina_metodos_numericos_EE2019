{
  "nbformat": 4,
  "nbformat_minor": 0,
  "metadata": {
    "kernelspec": {
      "display_name": "Python 3",
      "language": "python",
      "name": "python3"
    },
    "language_info": {
      "codemirror_mode": {
        "name": "ipython",
        "version": 3
      },
      "file_extension": ".py",
      "mimetype": "text/x-python",
      "name": "python",
      "nbconvert_exporter": "python",
      "pygments_lexer": "ipython3",
      "version": "3.7.4"
    },
    "colab": {
      "name": "igor-stefan_exercicios_metodo_raízes.ipynb",
      "provenance": [],
      "collapsed_sections": [],
      "include_colab_link": true
    }
  },
  "cells": [
    {
      "cell_type": "markdown",
      "metadata": {
        "id": "view-in-github",
        "colab_type": "text"
      },
      "source": [
        "<a href=\"https://colab.research.google.com/github/igor-stefan/metodos_numericos_2019/blob/master/igor_stefan_exercicios_metodo_ra%C3%ADzes.ipynb\" target=\"_parent\"><img src=\"https://colab.research.google.com/assets/colab-badge.svg\" alt=\"Open In Colab\"/></a>"
      ]
    },
    {
      "cell_type": "markdown",
      "metadata": {
        "id": "t_g4Upc7K6D1",
        "colab_type": "text"
      },
      "source": [
        "# Exercícios"
      ]
    },
    {
      "cell_type": "code",
      "metadata": {
        "id": "Tpn-UzBatq7o",
        "colab_type": "code",
        "colab": {}
      },
      "source": [
        "import numpy as np\n",
        "import matplotlib.pyplot as plt\n",
        "\n",
        "\n",
        "def plotar_grafico(x1,x2,i,f):\n",
        "  intervalo=[] #cria um vetor para intervalo\n",
        "  y=[] #cria um vetor para receber os valores de f(x)\n",
        "  intervalo = np.arange(x1,x2,i); #associa o intervalo ao vetor\n",
        "  for j in intervalo: #itera j no intervalo\n",
        "    y.append(f(j)); #adiciona em y os valores calculados de f(j)\n",
        "  plt.plot(intervalo,y); #plota o grafico x,y\n",
        "  plt.grid(True); \n",
        "  plt.show();\n",
        "\n",
        "\n",
        "def bissec(x1,x2,max_it,eps,f): #metodo da bissecao\n",
        "  xm=[];\n",
        "  it=0;\n",
        "  erro=[];\n",
        "  if (f(x1)*f(x2) > 0):\n",
        "    print(\"Não é possível calcular as raízes com os valores de x1 e x2 dados\");\n",
        "    return;\n",
        "  for i in range(max_it):\n",
        "    it=it+1;\n",
        "    xm.append((x1+x2)/2)\n",
        "    if f(x1)*f(xm[i]) < 0:\n",
        "      x2 = xm[i];\n",
        "    else:\n",
        "      x1 = xm[i];\n",
        "    if i != 0:\n",
        "      erro.append(np.abs(((xm[i]-xm[i-1])/(xm[i]))*100))\n",
        "      if(erro[-1]<eps):\n",
        "        break;\n",
        "  print(xm[-1])\n",
        "  print(\"Número de iterações necessárias: {}\".format(it))\n",
        "  print(\"Grafico erro vs interações: \")\n",
        "  plt.plot(erro)\n",
        "  plt.grid(True)\n",
        "  plt.show()\n",
        "  \n",
        "\n",
        "def cordas(x1,x2,max_it,eps,f): #metodo das cordas\n",
        "  xm=[]\n",
        "  it=0\n",
        "  erro=[]\n",
        "  if (f(x1)*f(x2) >= 0):\n",
        "    print(\"Não é possível calcular as raízes com os valores de x1 e x2 dados\");\n",
        "    return;\n",
        "  for i in range(max_it):\n",
        "    it=it+1;\n",
        "    xm.append(x2+((f(x2)/(f(x1)-f(x2)))*(x2-x1)))\n",
        "    if(f(x1)*f(xm[i]) < 0):\n",
        "      x2 = xm[i];\n",
        "    else:\n",
        "      x1 = xm[i];\n",
        "    if i != 0:\n",
        "      erro.append(np.abs((xm[i]-xm[i-1])/xm[i])*100)\n",
        "      if(erro[-1]<eps):\n",
        "        break;\n",
        "  print(xm[-1])\n",
        "  print(\"Número de iterações necessárias: {}\".format(it))\n",
        "  print(\"Grafico erro vs interações: \")\n",
        "  plt.plot(erro)\n",
        "  plt.grid(True)\n",
        "  plt.show()\n",
        "\n",
        "  \n",
        "def secante(x1,x2,max_it,eps,f):\n",
        "  it=0;\n",
        "  xm=[x1,x2];\n",
        "  erro=[x1,x2];\n",
        "  for j in range(max_it):\n",
        "    it=it+1\n",
        "    xm.append(xm[j+1]-((f(xm[j+1])*(xm[j+1]-xm[j]))/(f(xm[j+1])-f(xm[j]))));\n",
        "    erro.append((np.abs((xm[j]-xm[j-1])/xm[j]))*100);\n",
        "    if(erro[-1]<eps):\n",
        "      break;\n",
        "  print(xm[-1])\n",
        "  print(\"Número de iterações necessárias: {}\".format(it))\n",
        "  print(\"Grafico erro vs interações: \")\n",
        "  plt.plot(erro) #colocar plot(erro) para gráfico do erro\n",
        "  plt.grid(True)\n",
        "  plt.show()\n",
        "  \n",
        "def derivada(ponto):\n",
        "  return 3*(ponto**2);\n",
        "\n",
        "\n",
        "def newton(x1,max_it,eps,f):\n",
        "  it=0;\n",
        "  xm=[x1];\n",
        "  erro=[x1];\n",
        "  for j in range(max_it):\n",
        "    it=it+1;\n",
        "    xm.append(xm[-1]-(f(xm[-1])/derivada(xm[-1])));\n",
        "    erro.append((np.abs((xm[j]-xm[j-1])/xm[j]))*100);\n",
        "    if(erro[-1]<eps):\n",
        "      break;\n",
        "  print(xm[-1])\n",
        "  print(\"Número de iterações necessárias: {}\".format(it))\n",
        "  print(\"Grafico erro vs interações: \")\n",
        "  plt.plot(erro) #colocar plot(erro) para gráfico do erro\n",
        "  plt.grid(True)\n",
        "  plt.show()"
      ],
      "execution_count": 0,
      "outputs": []
    },
    {
      "cell_type": "markdown",
      "metadata": {
        "id": "TYWIT8mmK6D5",
        "colab_type": "text"
      },
      "source": [
        "1. Dada a função abaixo, encontre a raiz através do método da bisseção no intervalo [1,4], com $\\varepsilon_s = 0.01 \\%$ ou o máximo de 100 iterações, mostre o gráfico do erro vs iterações."
      ]
    },
    {
      "cell_type": "code",
      "metadata": {
        "id": "uMQRFrJxK6D6",
        "colab_type": "code",
        "colab": {}
      },
      "source": [
        "def x3_20(x):\n",
        "    return x**3-20"
      ],
      "execution_count": 0,
      "outputs": []
    },
    {
      "cell_type": "code",
      "metadata": {
        "id": "5y8atrrJK6EB",
        "colab_type": "code",
        "outputId": "06e7badc-c4b3-4f4e-c3ac-343a0a6e47a4",
        "colab": {
          "base_uri": "https://localhost:8080/",
          "height": 322
        }
      },
      "source": [
        "xi=1;\n",
        "xf=4;\n",
        "eps=0.01\n",
        "maxit=100\n",
        "\n",
        "bissec(xi,xf,maxit,eps,x3_20)"
      ],
      "execution_count": 0,
      "outputs": [
        {
          "output_type": "stream",
          "text": [
            "2.71441650390625\n",
            "Número de iterações necessárias: 14\n",
            "Grafico erro vs interações: \n"
          ],
          "name": "stdout"
        },
        {
          "output_type": "display_data",
          "data": {
            "image/png": "[encoded data removed]",
            "text/plain": [
              "<Figure size 432x288 with 1 Axes>"
            ]
          },
          "metadata": {
            "tags": []
          }
        }
      ]
    },
    {
      "cell_type": "markdown",
      "metadata": {
        "id": "aiTUvKk2K6EG",
        "colab_type": "text"
      },
      "source": [
        "2. Utilizando a mesma função, encontre a raiz através do método de Newton-Raphson com $x_0 = 3.0$ com $\\varepsilon_s = 0.01\\%$ ou o máximo de 100 iterações, mostre o gráfico do erro vs iterações."
      ]
    },
    {
      "cell_type": "code",
      "metadata": {
        "id": "FAe5ZszvK6EI",
        "colab_type": "code",
        "outputId": "09d36091-c5f2-4868-ef83-220f161dc0b4",
        "colab": {
          "base_uri": "https://localhost:8080/",
          "height": 322
        }
      },
      "source": [
        "xi=3.0\n",
        "maxit=100\n",
        "eps=0.01\n",
        "newton(xi,maxit,eps,x3_20)"
      ],
      "execution_count": 0,
      "outputs": [
        {
          "output_type": "stream",
          "text": [
            "2.7144176165949068\n",
            "Número de iterações necessárias: 4\n",
            "Grafico erro vs interações: \n"
          ],
          "name": "stdout"
        },
        {
          "output_type": "display_data",
          "data": {
            "image/png": "[encoded data removed]",
            "text/plain": [
              "<Figure size 432x288 with 1 Axes>"
            ]
          },
          "metadata": {
            "tags": []
          }
        }
      ]
    },
    {
      "cell_type": "markdown",
      "metadata": {
        "id": "iRVAwRmwK6EN",
        "colab_type": "text"
      },
      "source": [
        "3. Utilizando a mesma função, encontre a raiz através do método da secante com $x_0 = 4.0$ e $x_1 = 5.5$ com $\\varepsilon_s = 0.01\\%$ ou o máximo de 100 iterações, mostre o gráfico do erro vs iterações."
      ]
    },
    {
      "cell_type": "code",
      "metadata": {
        "id": "9Y8-peXYK6EO",
        "colab_type": "code",
        "outputId": "3e37c3e8-2a70-4ee2-8438-a898e0950d3c",
        "colab": {
          "base_uri": "https://localhost:8080/",
          "height": 322
        }
      },
      "source": [
        "x1=4.0\n",
        "x2=5.5\n",
        "maxit=100\n",
        "eps=0.01\n",
        "\n",
        "secante(x1,x2,maxit,eps,x3_20)"
      ],
      "execution_count": 0,
      "outputs": [
        {
          "output_type": "stream",
          "text": [
            "2.7144176165949063\n",
            "Número de iterações necessárias: 8\n",
            "Grafico erro vs interações: \n"
          ],
          "name": "stdout"
        },
        {
          "output_type": "display_data",
          "data": {
            "image/png": "[encoded data removed]",
            "text/plain": [
              "<Figure size 432x288 with 1 Axes>"
            ]
          },
          "metadata": {
            "tags": []
          }
        }
      ]
    },
    {
      "cell_type": "markdown",
      "metadata": {
        "id": "vHsFXNcQK6ET",
        "colab_type": "text"
      },
      "source": [
        "4. Determine a raiz de $f(x) = x^3-6x^2+11x-6.1$, considerando sempre $\\varepsilon = 0.01 \\%$ :\n",
        "\n",
        "    a. Graficamente\n",
        "\n",
        "    b. Usando o método da bisseção, [-2.5, 10]\n",
        "    \n",
        "    c. Usando o método das cordas, [-2.5, 10]\n",
        "    \n",
        "    d. Usando o método de Newton-Raphson, $x_i = 3.5$\n",
        "    \n",
        "    e. Usando o método da secante, $x_{i-1} = 2.5$ e $x_i = 3.5$\n",
        "    \n",
        "    f. De acordo com os resultados qual método você considera o mais eficiente?"
      ]
    },
    {
      "cell_type": "code",
      "metadata": {
        "id": "-J_fApJNK6EV",
        "colab_type": "code",
        "outputId": "79457ce3-7943-4582-b135-084b443068d5",
        "colab": {
          "base_uri": "https://localhost:8080/",
          "height": 268
        }
      },
      "source": [
        "#a\n",
        "def g(x):\n",
        "  return x**3-6*x**2+11*x-6.1\n",
        "\n",
        "plotar_grafico(1.0,3.2,.000005,g)"
      ],
      "execution_count": 0,
      "outputs": [
        {
          "output_type": "display_data",
          "data": {
            "image/png": "[encoded data removed]",
            "text/plain": [
              "<Figure size 432x288 with 1 Axes>"
            ]
          },
          "metadata": {
            "tags": []
          }
        }
      ]
    },
    {
      "cell_type": "markdown",
      "metadata": {
        "id": "V1VsZz8LyEuv",
        "colab_type": "text"
      },
      "source": [
        "As raízes são: 1.1 ; 1.8 ; 3.05"
      ]
    },
    {
      "cell_type": "code",
      "metadata": {
        "id": "Ws7QSEIqyNiy",
        "colab_type": "code",
        "outputId": "c5863998-a9ba-4cb6-84e5-001c6a0739d4",
        "colab": {
          "base_uri": "https://localhost:8080/",
          "height": 322
        }
      },
      "source": [
        "#b\n",
        "x11=-2.5;\n",
        "x22=10.1;\n",
        "maxit=100;\n",
        "eps=0.01;\n",
        "\n",
        "bissec(x11,x22,maxit,eps,g)"
      ],
      "execution_count": 0,
      "outputs": [
        {
          "output_type": "stream",
          "text": [
            "3.0465301513671874\n",
            "Número de iterações necessárias: 16\n",
            "Grafico erro vs interações: \n"
          ],
          "name": "stdout"
        },
        {
          "output_type": "display_data",
          "data": {
            "image/png": "[encoded data removed]",
            "text/plain": [
              "<Figure size 432x288 with 1 Axes>"
            ]
          },
          "metadata": {
            "tags": []
          }
        }
      ]
    },
    {
      "cell_type": "markdown",
      "metadata": {
        "id": "NEisTo0Tyz9A",
        "colab_type": "text"
      },
      "source": [
        "Foi encontrada a raíz: 3.0465301513671874\n",
        "<p>Número de iterações necessárias: 16"
      ]
    },
    {
      "cell_type": "code",
      "metadata": {
        "id": "QQc1MG8sy9s4",
        "colab_type": "code",
        "outputId": "7a6d484f-4f2a-4b4d-8ac1-5ec10d9f8ee7",
        "colab": {
          "base_uri": "https://localhost:8080/",
          "height": 322
        }
      },
      "source": [
        "#c\n",
        "x_i = -2.5\n",
        "x_f = 10.1\n",
        "maxit=1000\n",
        "eps=0.01\n",
        "cordas(x_i,x_f,maxit,eps,g)"
      ],
      "execution_count": 28,
      "outputs": [
        {
          "output_type": "stream",
          "text": [
            "1.0509245313859292\n",
            "Número de iterações necessárias: 158\n",
            "Grafico erro vs interações: \n"
          ],
          "name": "stdout"
        },
        {
          "output_type": "display_data",
          "data": {
            "image/png": "[encoded data removed]",
            "text/plain": [
              "<Figure size 432x288 with 1 Axes>"
            ]
          },
          "metadata": {
            "tags": []
          }
        }
      ]
    },
    {
      "cell_type": "markdown",
      "metadata": {
        "id": "LXbQzEBfzGyv",
        "colab_type": "text"
      },
      "source": [
        "Foi encontrada a raíz: 1.0509245313859292\n",
        "<p>Número de iterações necessárias: 158"
      ]
    },
    {
      "cell_type": "code",
      "metadata": {
        "id": "vju-N_mO0ZZ4",
        "colab_type": "code",
        "outputId": "0f8c9bbc-e634-403b-f9e0-6627ba035833",
        "colab": {
          "base_uri": "https://localhost:8080/",
          "height": 322
        }
      },
      "source": [
        "#d\n",
        "xi=3.5\n",
        "maxit=100\n",
        "eps=0.01\n",
        "\n",
        "def derivada_d(ponto):\n",
        "  return 3*(ponto**2)-12*ponto+11;\n",
        "\n",
        "\n",
        "def newton_d(x1,max_it,eps,f):\n",
        "  it=0;\n",
        "  xm=[x1];\n",
        "  erro=[x1];\n",
        "  for j in range(max_it):\n",
        "    it=it+1;\n",
        "    xm.append(xm[-1]-(f(xm[-1])/derivada_d(xm[-1])));\n",
        "    erro.append((np.abs((xm[j]-xm[j-1])/xm[j]))*100);\n",
        "    if(erro[-1]<eps):\n",
        "      break;\n",
        "  print(xm[-1])\n",
        "  print(\"Número de iterações necessárias: {}\".format(it))\n",
        "  print(\"Grafico erro vs interações: \")\n",
        "  plt.plot(erro) #colocar plot(erro) para gráfico do erro\n",
        "  plt.grid(True)\n",
        "  plt.show()\n",
        "  \n",
        "newton_d(xi,maxit,eps,g)\n"
      ],
      "execution_count": 0,
      "outputs": [
        {
          "output_type": "stream",
          "text": [
            "3.0466805318046055\n",
            "Número de iterações necessárias: 6\n",
            "Grafico erro vs interações: \n"
          ],
          "name": "stdout"
        },
        {
          "output_type": "display_data",
          "data": {
            "image/png": "[encoded data removed]",
            "text/plain": [
              "<Figure size 432x288 with 1 Axes>"
            ]
          },
          "metadata": {
            "tags": []
          }
        }
      ]
    },
    {
      "cell_type": "markdown",
      "metadata": {
        "id": "sd1HI59g1GH5",
        "colab_type": "text"
      },
      "source": [
        "Foi encontrada a raíz: 3.0466805318046055\n",
        "<p>Número de iterações necessárias: 6"
      ]
    },
    {
      "cell_type": "code",
      "metadata": {
        "id": "Guvvrj2_3QMX",
        "colab_type": "code",
        "outputId": "ba9e8573-d8c4-489c-d82f-9755733e288e",
        "colab": {
          "base_uri": "https://localhost:8080/",
          "height": 322
        }
      },
      "source": [
        "#e\n",
        "xi=2.5\n",
        "xf=3.5\n",
        "maxit=100\n",
        "eps=0.01\n",
        "\n",
        "secante(xi,xf,maxit,eps,g)"
      ],
      "execution_count": 0,
      "outputs": [
        {
          "output_type": "stream",
          "text": [
            "3.0466805318046024\n",
            "Número de iterações necessárias: 10\n",
            "Grafico erro vs interações: \n"
          ],
          "name": "stdout"
        },
        {
          "output_type": "display_data",
          "data": {
            "image/png": "[encoded data removed]",
            "text/plain": [
              "<Figure size 432x288 with 1 Axes>"
            ]
          },
          "metadata": {
            "tags": []
          }
        }
      ]
    },
    {
      "cell_type": "markdown",
      "metadata": {
        "id": "HqGfzG2c3fnP",
        "colab_type": "text"
      },
      "source": [
        "A raíz encontrada foi: 3.0466805318046024\n",
        "<p>Número de iterações necessárias: 10"
      ]
    },
    {
      "cell_type": "markdown",
      "metadata": {
        "id": "j26T9t754ND7",
        "colab_type": "text"
      },
      "source": [
        "##f\n",
        "<p> O método mais eficiente é o <b>método de Newton</b>, seguido pelo método da secante.\n",
        "<p> O método de Newton foi 40% mais rápido que o método da secante."
      ]
    },
    {
      "cell_type": "markdown",
      "metadata": {
        "id": "xFUp7xX4K6Ea",
        "colab_type": "text"
      },
      "source": [
        "5. O polinômio $f(x) = 0.0074x^4 - 0.284x^3 + 3.355x^2-12.183x + 5$ tem uma raiz entre 15 e 20. Aplique o método de Newton-Raphson para essa função utilizando uma aproximação inicial de $x_0=16.15$"
      ]
    },
    {
      "cell_type": "code",
      "metadata": {
        "id": "TEGTKm8GK6Ec",
        "colab_type": "code",
        "outputId": "289b56f3-7b0f-4d5e-a989-98393ed29d85",
        "colab": {
          "base_uri": "https://localhost:8080/",
          "height": 322
        }
      },
      "source": [
        "def k(x):\n",
        "  return 0.0074*x**4-0.284*x**3+3.355*x**2-12.183*x+5\n",
        "\n",
        "def derivada_k(x):\n",
        "  return 0.0296*x**3-0.852*x**2+6.71*x-12.183\n",
        "\n",
        "def newton_k(x1,max_it,eps,f):\n",
        "  it=0;\n",
        "  xm=[x1];\n",
        "  erro=[x1];\n",
        "  for j in range(max_it):\n",
        "    it=it+1;\n",
        "    xm.append(xm[-1]-(f(xm[-1])/derivada_k(xm[-1])));\n",
        "    erro.append((np.abs((xm[j]-xm[j-1])/xm[j]))*100);\n",
        "    if(erro[-1]<eps):\n",
        "      break;\n",
        "  print(xm[-1])\n",
        "  print(\"Número de iterações necessárias: {}\".format(it))\n",
        "  print(\"Grafico erro vs interações: \")\n",
        "  plt.plot(erro) #colocar plot(erro) para gráfico do erro\n",
        "  plt.grid(True)\n",
        "  plt.show()\n",
        "  \n",
        "\n",
        "xi=16.15\n",
        "eps=0.05\n",
        "maxit=100\n",
        "\n",
        "newton_k(xi,maxit,eps,k)\n"
      ],
      "execution_count": 0,
      "outputs": [
        {
          "output_type": "stream",
          "text": [
            "0.4684797455777754\n",
            "Número de iterações necessárias: 9\n",
            "Grafico erro vs interações: \n"
          ],
          "name": "stdout"
        },
        {
          "output_type": "display_data",
          "data": {
            "image/png": "[encoded data removed]",
            "text/plain": [
              "<Figure size 432x288 with 1 Axes>"
            ]
          },
          "metadata": {
            "tags": []
          }
        }
      ]
    },
    {
      "cell_type": "markdown",
      "metadata": {
        "id": "drTW4B0UK6Eg",
        "colab_type": "text"
      },
      "source": [
        "6. Segundo estudos médicos, as chances de um saltador de *bungee jumping* sofrer uma lesão nas vértebras aumentam se a velocidade, $v(t)$ da queda exceder 36 m/s após $t = 4 s$ de queda livre. Determine a massa, $m$ na qual esse critério é execedido, dado um coeficiente de arrasto $c_d = 0.25 kg/m $. Você pode usar a solução analítica a seguir para prever a velocidade de queda em função do tempo:\n",
        "\n",
        "$$ v(t) = \\sqrt{\\frac{gm}{c_d}}tanh\\left(\\sqrt{\\frac{gc_d}{m}}t\\right)$$\n",
        "onde $g = 9.81$\n",
        "\n",
        "Uma maneira alternativa de olhar para o problema envolve a subtração de $v(t)$ de ambos os lados para fornecer uma nova função:\n",
        "\n",
        "$$  f(m) = \\sqrt{\\frac{gm}{c_d}}tanh\\left(\\sqrt{\\frac{gc_d}{m}}t\\right)-v(t)$$\n",
        "\n",
        "Agora, podemos ver que a resposta para o problema é o valor de $m$ que torna a função igual a zero.\n",
        "\n",
        "Escolha dois métodos para resolver esse problema, para um $\\varepsilon_s = 0.05\\%$ ou o máximo de 100 iterações dentro do intervalo [40, 200].\n",
        "\n",
        "Compare os seus resultados com o valor exato da raiz $m = 142.7376$"
      ]
    },
    {
      "cell_type": "code",
      "metadata": {
        "id": "sPndi5RUK6Ei",
        "colab_type": "code",
        "outputId": "4a6cabc4-d15f-4bc1-97ef-597033c8a1e0",
        "colab": {
          "base_uri": "https://localhost:8080/",
          "height": 322
        }
      },
      "source": [
        "def seis(m):\n",
        "  return (np.sqrt(9.81*m/0.25)) * (np.tanh(np.sqrt(9.81*0.25/m)*4)) - 36\n",
        "\n",
        "xi=40;\n",
        "xf=200;\n",
        "eps=0.05;\n",
        "maxit=100;\n",
        "\n",
        "secante(xi,xf,maxit,eps,seis)\n"
      ],
      "execution_count": 0,
      "outputs": [
        {
          "output_type": "stream",
          "text": [
            "142.73763310844913\n",
            "Número de iterações necessárias: 8\n",
            "Grafico erro vs interações: \n"
          ],
          "name": "stdout"
        },
        {
          "output_type": "display_data",
          "data": {
            "image/png": "[encoded data removed]",
            "text/plain": [
              "<Figure size 432x288 with 1 Axes>"
            ]
          },
          "metadata": {
            "tags": []
          }
        }
      ]
    },
    {
      "cell_type": "code",
      "metadata": {
        "id": "H6O9tAn3WMdH",
        "colab_type": "code",
        "outputId": "f6d0721b-4b4e-42a6-e572-e434c6f42852",
        "colab": {
          "base_uri": "https://localhost:8080/",
          "height": 322
        }
      },
      "source": [
        "bissec(xi,xf,maxit,eps,seis)"
      ],
      "execution_count": 0,
      "outputs": [
        {
          "output_type": "stream",
          "text": [
            "142.7734375\n",
            "Número de iterações necessárias: 12\n",
            "Grafico erro vs interações: \n"
          ],
          "name": "stdout"
        },
        {
          "output_type": "display_data",
          "data": {
            "image/png": "[encoded data removed]",
            "text/plain": [
              "<Figure size 432x288 with 1 Axes>"
            ]
          },
          "metadata": {
            "tags": []
          }
        }
      ]
    },
    {
      "cell_type": "code",
      "metadata": {
        "id": "Z0-wHtlZWQXS",
        "colab_type": "code",
        "outputId": "365c2bda-35f5-464a-b44e-5d8d909fdf01",
        "colab": {
          "base_uri": "https://localhost:8080/",
          "height": 322
        }
      },
      "source": [
        "cordas(xi,xf,maxit,eps,seis)"
      ],
      "execution_count": 29,
      "outputs": [
        {
          "output_type": "stream",
          "text": [
            "142.76150786826133\n",
            "Número de iterações necessárias: 18\n",
            "Grafico erro vs interações: \n"
          ],
          "name": "stdout"
        },
        {
          "output_type": "display_data",
          "data": {
            "image/png": "[encoded data removed]",
            "text/plain": [
              "<Figure size 432x288 with 1 Axes>"
            ]
          },
          "metadata": {
            "tags": []
          }
        }
      ]
    },
    {
      "cell_type": "markdown",
      "metadata": {
        "id": "Q55hEbrTYanH",
        "colab_type": "text"
      },
      "source": [
        "<p align=\"justify\" > O método da <b>secante</b> foi o mais rápido e o mais preciso. O método das <b>cordas</b> foi o que mais demorou para convergir e o método da <b>bisseção</b> apresentou um resultado mais preciso que o método das cordas.</p>"
      ]
    }
  ]
}