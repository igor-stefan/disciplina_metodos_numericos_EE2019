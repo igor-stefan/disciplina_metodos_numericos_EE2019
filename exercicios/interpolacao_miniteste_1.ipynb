{
  "nbformat": 4,
  "nbformat_minor": 0,
  "metadata": {
    "colab": {
      "name": "Atividade prática - Interpolação.ipynb",
      "provenance": [],
      "collapsed_sections": []
    },
    "kernelspec": {
      "name": "python3",
      "display_name": "Python 3"
    }
  },
  "cells": [
    {
      "cell_type": "markdown",
      "metadata": {
        "id": "kkl5rfGPh8PJ",
        "colab_type": "text"
      },
      "source": [
        "#Atividade prática\n",
        "\n",
        "Dados os pontos da tabela:\n",
        "\n",
        "|x|\ty|\n",
        "|--|--|\n",
        "10 | 227.04 |\n",
        "15 |362.78| \n",
        "20 |517.35| \n",
        "22.5 | 602.97|\n",
        "\n",
        "Utilizando o método direto encontre (manualmente) os coeficiente do polinômio interpolador de ordem 3. Trace o gráfico entre 10 e 22.5 com intervalo de 0.01 entre os pontos\n",
        "\n",
        "Utilizando o método de Newton encontre (manualmente) os coeficientes do polinômio interpolador de ordem 3. Trace o gráfico entre 10 e 22.5 com intervalo de 0.01 entre os pontos"
      ]
    },
    {
      "cell_type": "code",
      "metadata": {
        "id": "7_H5yrEAh7Fa",
        "colab_type": "code",
        "colab": {}
      },
      "source": [
        "#implementações\n",
        "import numpy as np\n",
        "import matplotlib.pyplot as plt\n",
        "\n",
        "\n",
        "def pd(inicio,fim,m_val,m_controle,val_x,val_y):\n",
        "  if m_controle[inicio,fim]:\n",
        "    return m_val[inicio,fim] \n",
        "  if(inicio==fim):\n",
        "    return val_y[inicio]\n",
        "  m_val[inicio,fim]=(pd(inicio+1,fim,m_val,m_controle,val_x,val_y)-pd(inicio,fim-1,m_val,m_controle,val_x,val_y))/(val_x[fim]-val_x[inicio])\n",
        "  m_controle[inicio,fim]=1\n",
        "  return m_val[inicio,fim];\n",
        "\n",
        "def newton(x,val_x,val_y):\n",
        "  coeficientes = np.zeros(val_x.shape[0])\n",
        "  m_val=np.zeros((val_x.shape[0],val_x.shape[0]),dtype=float)\n",
        "  m_controle=np.zeros((val_x.shape[0],val_x.shape[0]),dtype=bool)\n",
        "  res=0;\n",
        "  diferenca=1;\n",
        "  for i in range (coeficientes.shape[0]):\n",
        "    coeficientes[i]=pd(0,i,m_val,m_controle,val_x,val_y)\n",
        "    res+=diferenca*coeficientes[i]\n",
        "    diferenca*=x-val_x[i]\n",
        "  print('Valores dos coeficientes = ',coeficientes);\n",
        "  #print('f(',x,') = ', res,sep='')\n",
        "  return coeficientes\n",
        "\n",
        "def pivotamento(matriz):\n",
        "  for i in range(matriz.shape[0]):\n",
        "    maior_abs=np.abs(matriz[i,i])\n",
        "    maior=matriz[i,i]\n",
        "    for q in range(i+1,matriz.shape[0]): \n",
        "      if(np.abs(matriz[q,i])>maior_abs): \n",
        "        maior=matriz[q,i] \n",
        "        matriz[[i,q]]=matriz[[q,i]] \n",
        "    pivo=maior \n",
        "    equacao_pivo=matriz[i,:] \n",
        "    j=i+1 \n",
        "    while(j<matriz.shape[0]): \n",
        "      eliminador=matriz[j,i]/pivo \n",
        "      matriz[j,:]=matriz[j,:]-(eliminador*equacao_pivo) \n",
        "      j=j+1 \n",
        "  return matriz \n",
        "\n",
        "def substituicao(matriz):\n",
        "  solucoes=np.zeros(matriz.shape[0],dtype=float) \n",
        "  solucoes[-1]=matriz[-1,-1]/matriz[-1,-2] \n",
        "  soma=0\n",
        "  for i in range(-(matriz.shape[0]-2),1): \n",
        "    for j in range(matriz.shape[0]): \n",
        "      if(j!=-i): \n",
        "        soma+=solucoes[j]*matriz[-i,j] \n",
        "    solucoes[-i]=(matriz[-i,-1]-soma)/matriz[-i,-i] \n",
        "    soma=0 \n",
        "  return solucoes \n",
        "\n",
        "def gauss_pivotamento(matriz_sistema):\n",
        "  return substituicao(pivotamento(matriz_sistema))\n",
        "\n",
        "def direto(x,val_x,val_y):\n",
        "  m=np.zeros((val_x.shape[0],val_x.shape[0]+1)) #preenche-se uma matriz de zeros\n",
        "  m[:,-1]=val_y.copy()#ultima coluna recebe os valores de y\n",
        "  for i in range(val_x.shape[0]):\n",
        "    for j in range(val_x.shape[0]):\n",
        "      m[i,j]=val_x[i]**j #x^n+x^n-1+x^n-2+...+x^2+x+0 = y\n",
        "  coeficientes=gauss_pivotamento(m) #resolvo o sistema\n",
        "  res=0\n",
        "  for k in range(len(coeficientes)):\n",
        "    res+=coeficientes[k]*x**k\n",
        "  print('Coeficientes = ', coeficientes)\n",
        "  #print('f(',x,') = ', res,sep='')\n",
        "  return coeficientes\n",
        "\n"
      ],
      "execution_count": null,
      "outputs": []
    },
    {
      "cell_type": "code",
      "metadata": {
        "id": "sTqnFIehjpwt",
        "colab_type": "code",
        "colab": {
          "base_uri": "https://localhost:8080/",
          "height": 300
        },
        "outputId": "0e365d03-15e1-4180-c859-31b1f115aa94"
      },
      "source": [
        "#1. DIRETO\n",
        "x=np.array([10.0,15.0,20.0,22.5])\n",
        "y=np.array([227.04,362.78,517.35,602.97])\n",
        "\n",
        "a=direto(12.0,x,y)\n",
        "print('Coeficiente de grau 3 = ',a[-1])\n",
        "x1=np.arange(10.0,22.5,0.01,dtype=float);\n",
        "y1=np.zeros(x1.shape[0],dtype=float)\n",
        "for i in range(x1.shape[0]):\n",
        "  for j in range(a.shape[0]):\n",
        "    y1[i]+=a[j]*x1[i]**j\n",
        "\n",
        "plt.plot(x1,y1,'g-')\n",
        "plt.grid(1)\n",
        "plt.show()\n"
      ],
      "execution_count": null,
      "outputs": [
        {
          "output_type": "stream",
          "text": [
            "Coeficientes =  [-4.25400000e+00  2.12655333e+01  1.32040000e-01  5.43466667e-03]\n",
            "Coeficiente de grau 3 =  0.005434666666666544\n"
          ],
          "name": "stdout"
        },
        {
          "output_type": "display_data",
          "data": {
            "image/png": "[encoded data removed]",
            "text/plain": [
              "<Figure size 432x288 with 1 Axes>"
            ]
          },
          "metadata": {
            "tags": []
          }
        }
      ]
    },
    {
      "cell_type": "code",
      "metadata": {
        "id": "FpyYtGtLoIFG",
        "colab_type": "code",
        "colab": {
          "base_uri": "https://localhost:8080/",
          "height": 300
        },
        "outputId": "3ff117c2-eaa0-41ee-df96-1a1b74b2015f"
      },
      "source": [
        "#2. NEWTON\n",
        "val_x=np.array([10.0,15.0,20.0,22.5])\n",
        "val_y=np.array([227.04,362.78,517.35,602.97])\n",
        "h=14.0\n",
        "a=newton(h,val_x,val_y)\n",
        "print('Coeficiente de grau 3 = ',a[-1])\n",
        "x2=np.arange(10.0,22.5,0.01,dtype=float);\n",
        "y2=np.zeros(x2.shape[0],dtype=float)\n",
        "for i in range(x2.shape[0]):\n",
        "  res=0\n",
        "  diferenca=1\n",
        "  for j in range(a.shape[0]):\n",
        "    y2[i]+=diferenca*a[j]\n",
        "    diferenca*=x2[i]-val_x[j]\n",
        "plt.plot(x2,y2,'r-')\n",
        "plt.grid(1)\n",
        "plt.show()"
      ],
      "execution_count": null,
      "outputs": [
        {
          "output_type": "stream",
          "text": [
            "Valores dos coeficientes =  [2.27040000e+02 2.71480000e+01 3.76600000e-01 5.43466667e-03]\n",
            "Coeficiente de grau 3 =  0.005434666666666525\n"
          ],
          "name": "stdout"
        },
        {
          "output_type": "display_data",
          "data": {
            "image/png": "[encoded data removed]",
            "text/plain": [
              "<Figure size 432x288 with 1 Axes>"
            ]
          },
          "metadata": {
            "tags": []
          }
        }
      ]
    }
  ]
}