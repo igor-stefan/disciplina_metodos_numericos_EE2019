{
  "nbformat": 4,
  "nbformat_minor": 0,
  "metadata": {
    "colab": {
      "name": "interpolacao_implementacao.ipynb",
      "provenance": [],
      "collapsed_sections": [],
      "include_colab_link": true
    },
    "kernelspec": {
      "name": "python3",
      "display_name": "Python 3"
    }
  },
  "cells": [
    {
      "cell_type": "markdown",
      "metadata": {
        "id": "view-in-github",
        "colab_type": "text"
      },
      "source": [
        "<a href=\"https://colab.research.google.com/github/igor-stefan/metodos_numericos_2019/blob/master/interpolacao_implementacao.ipynb\" target=\"_parent\"><img src=\"https://colab.research.google.com/assets/colab-badge.svg\" alt=\"Open In Colab\"/></a>"
      ]
    },
    {
      "cell_type": "code",
      "metadata": {
        "id": "QeYRyKzGPhvs",
        "colab_type": "code",
        "colab": {}
      },
      "source": [
        "import numpy as np\n",
        "import matplotlib.pyplot as plt"
      ],
      "execution_count": null,
      "outputs": []
    },
    {
      "cell_type": "markdown",
      "metadata": {
        "id": "W90tV9-EPbI1",
        "colab_type": "text"
      },
      "source": [
        "#Newton"
      ]
    },
    {
      "cell_type": "code",
      "metadata": {
        "id": "zzBuVygCDZzB",
        "colab_type": "code",
        "colab": {
          "base_uri": "https://localhost:8080/",
          "height": 70
        },
        "outputId": "e0fee710-6bde-45bd-cefe-469d54bb6846"
      },
      "source": [
        "x=np.array([3.0,5.0,9.0],dtype=float)\n",
        "y=np.array([40.0,82.0,214.0],dtype=float)\n",
        "\n",
        "\n",
        "def newton(x,val_x,val_y):\n",
        "  coeficientes = np.zeros(val_x.shape[0])\n",
        "  m_val=np.zeros((val_x.shape[0],val_x.shape[0]),dtype=float)\n",
        "  m_controle=np.zeros((val_x.shape[0],val_x.shape[0]),dtype=bool)\n",
        "  res=0;\n",
        "  diferenca=1;\n",
        "  for i in range (coeficientes.shape[0]):\n",
        "    coeficientes[i]=pd(0,i,m_val,m_controle,val_x,val_y)\n",
        "    res+=diferenca*coeficientes[i]\n",
        "    diferenca*=x-val_x[i]\n",
        "  print('Valores dos coeficientes = ',coeficientes);\n",
        "  print('f(',x,') = ', res,sep='')\n",
        "  return res;\n",
        "\n",
        "def pd(inicio,fim,m_val,m_controle,val_x,val_y):\n",
        "  if m_controle[inicio,fim]:\n",
        "    return m_val[inicio,fim] #se ja tiver sido calculado, retorna o valor referente\n",
        "  if(inicio==fim):\n",
        "    return val_y[inicio] #quando chegar num caso base, retornar o valor de f(x)\n",
        "  #caso nao seja um caso base, fazer a pd de acordo com a formula de calculo das diferenças divididas\n",
        "  #f[xi,xi+1,xi+2,...,xi+k-1,xi+k]= (f[xi,xi+1,xi+2,...,xi+k-1,xi+k]-f[xi,xi+1,xi+2,...xi+k-2,,xi+k-1])/(xi+k)-xi\n",
        "  #o nome pd é devido à tecnica utilizada\n",
        "  m_val[inicio,fim]=(pd(inicio+1,fim,m_val,m_controle,val_x,val_y)-pd(inicio,fim-1,m_val,m_controle,val_x,val_y))/(val_x[fim]-val_x[inicio])\n",
        "  m_controle[inicio,fim]=1\n",
        "  return m_val[inicio,fim];\n",
        "\n",
        "newton(4.0,x,y)\n",
        "\n",
        "# como eu posso escrever o polinomio interpolador como pn(x)= f[x0] + a1(x − x0)+ a2(x − x0)(x − x1) + ... + an(x − x0)(x − x1)...(x − xn−1)\n",
        "# o valor de f[xo] se refere a primeira diferença dividida que é igual a f(x0). a1,a2,an... são as n-ésimas diferenças divididas que correspondem aos coeficientes\n",
        "# por exemplo: a1 = f(x1)-f(x0)/x1-x0\n",
        "# dessa maneira, em cada indice do loop, é calculado a diferença dividida referente a val_x[i] e ao resultado é adicionado o produto de an pelo valor da diferenca x-x[i]\n"
      ],
      "execution_count": null,
      "outputs": [
        {
          "output_type": "stream",
          "text": [
            "Valores dos coeficientes =  [40. 21.  2.]\n",
            "f(4.0) = 59.0\n"
          ],
          "name": "stdout"
        },
        {
          "output_type": "execute_result",
          "data": {
            "text/plain": [
              "59.0"
            ]
          },
          "metadata": {
            "tags": []
          },
          "execution_count": 18
        }
      ]
    },
    {
      "cell_type": "markdown",
      "metadata": {
        "id": "uTncfIByPnO1",
        "colab_type": "text"
      },
      "source": [
        "#Lagrange"
      ]
    },
    {
      "cell_type": "code",
      "metadata": {
        "id": "m0WPNwDXPqAK",
        "colab_type": "code",
        "colab": {
          "base_uri": "https://localhost:8080/",
          "height": 70
        },
        "outputId": "7c865e40-2af8-4d72-88af-736618f20276"
      },
      "source": [
        "x=np.array([3.0,5.0,9.0],dtype=float)\n",
        "y=np.array([40.0,82.0,214.0],dtype=float)\n",
        "\n",
        "def lagrange(x,val_x,val_y):\n",
        "  for i in range(val_x.shape[0]):\n",
        "    if val_x[i]==x:\n",
        "      return val_y[i]\n",
        "  \n",
        "  g=np.zeros((val_x.shape[0],val_x.shape[0])) #matriz G para metodo de lagrange utilizando dispositivo pratico\n",
        "  gd=1 #produto da diagonal principal\n",
        "  l=val_y.copy();\n",
        "\n",
        "  #for para construir a matriz; onde i=j o valor é x-val_x[coluna]; onde i!=j, val_x[linha]-val_x[coluna]\n",
        "  for i in range(g.shape[0]): \n",
        "    for j in range(g.shape[0]): \n",
        "      if i!=j:\n",
        "        g[i,j]=val_x[i]-val_x[j]\n",
        "      else:\n",
        "        g[i,j]=x-val_x[j]\n",
        "        gd*=g[i,j] #atualiza o produto da diagonal principal\n",
        "  res=0;\n",
        "  for i in range(g.shape[0]):\n",
        "    l[i]=gd/np.prod(g[i,:]) #Cada Li(x) recebe o quociente entre o produto da diagonal principal e o produto da respectiva linha i.\n",
        "    res+=l[i]*val_y[i] #o resultado é a soma de cada Li(x) com o respectivo val_y[x](ou valor de f(xi))\n",
        "\n",
        "  print('f(',x,') = ',res)\n",
        "  print('Coeficientes = ', l)\n",
        "  return res\n",
        "\n",
        "lagrange(6.0,x,y)\n"
      ],
      "execution_count": null,
      "outputs": [
        {
          "output_type": "stream",
          "text": [
            "f( 6.0 ) =  109.0\n",
            "Coeficientes =  [-0.25   1.125  0.125]\n"
          ],
          "name": "stdout"
        },
        {
          "output_type": "execute_result",
          "data": {
            "text/plain": [
              "109.0"
            ]
          },
          "metadata": {
            "tags": []
          },
          "execution_count": 4
        }
      ]
    },
    {
      "cell_type": "markdown",
      "metadata": {
        "id": "Wy0snatcEiCq",
        "colab_type": "text"
      },
      "source": [
        "#Direto\n"
      ]
    },
    {
      "cell_type": "code",
      "metadata": {
        "id": "rZUdQEX3EnBE",
        "colab_type": "code",
        "colab": {
          "base_uri": "https://localhost:8080/",
          "height": 70
        },
        "outputId": "a0d6525c-3a4c-4444-cf80-00ec5edbf9e5"
      },
      "source": [
        "def pivotamento(matriz):\n",
        "  for i in range(matriz.shape[0]):\n",
        "    maior_abs=np.abs(matriz[i,i])\n",
        "    maior=matriz[i,i]\n",
        "    for q in range(i+1,matriz.shape[0]): \n",
        "      if(np.abs(matriz[q,i])>maior_abs): \n",
        "        maior=matriz[q,i] \n",
        "        matriz[[i,q]]=matriz[[q,i]] \n",
        "    pivo=maior \n",
        "    equacao_pivo=matriz[i,:] \n",
        "    j=i+1 \n",
        "    while(j<matriz.shape[0]): \n",
        "      eliminador=matriz[j,i]/pivo \n",
        "      matriz[j,:]=matriz[j,:]-(eliminador*equacao_pivo) \n",
        "      j=j+1 \n",
        "  return matriz \n",
        "\n",
        "def substituicao(matriz):\n",
        "  solucoes=np.zeros(matriz.shape[0],dtype=float) \n",
        "  solucoes[-1]=matriz[-1,-1]/matriz[-1,-2] \n",
        "  soma=0\n",
        "  for i in range(-(matriz.shape[0]-2),1): \n",
        "    for j in range(matriz.shape[0]): \n",
        "      if(j!=-i): \n",
        "        soma+=solucoes[j]*matriz[-i,j] \n",
        "    solucoes[-i]=(matriz[-i,-1]-soma)/matriz[-i,-i] \n",
        "    soma=0 \n",
        "  return solucoes \n",
        "\n",
        "def gauss_pivotamento(matriz_sistema):\n",
        "  return substituicao(pivotamento(matriz_sistema))\n",
        "\n",
        "def direto(x,val_x,val_y):\n",
        "  m=np.zeros((val_x.shape[0],val_x.shape[0]+1)) #preenche-se uma matriz de zeros\n",
        "  m[:,-1]=val_y.copy()#ultima coluna recebe os valores de y\n",
        "  for i in range(val_x.shape[0]):\n",
        "    for j in range(val_x.shape[0]):\n",
        "      m[i,j]=val_x[i]**j #x^n+x^n-1+x^n-2+...+x^2+x+0 = y\n",
        "  coeficientes=gauss_pivotamento(m) #resolvo o sistema\n",
        "  res=0\n",
        "  for k in range(len(coeficientes)):\n",
        "    res+=coeficientes[k]*x**k\n",
        "  print('Coeficientes = ', coeficientes)\n",
        "  print('f(',x,') = ', res,sep='')\n",
        "  return res\n",
        "\n",
        "\n",
        "x1=np.array([3.0,5.0,9.0],dtype=float)\n",
        "y1=np.array([40.0,82.0,214.0],dtype=float)\n",
        "h=4.0\n",
        "\n",
        "direto(h,x1,y1)"
      ],
      "execution_count": null,
      "outputs": [
        {
          "output_type": "stream",
          "text": [
            "Coeficientes =  [7. 5. 2.]\n",
            "f(4.0) = 59.0\n"
          ],
          "name": "stdout"
        },
        {
          "output_type": "execute_result",
          "data": {
            "text/plain": [
              "59.0"
            ]
          },
          "metadata": {
            "tags": []
          },
          "execution_count": 23
        }
      ]
    },
    {
      "cell_type": "markdown",
      "metadata": {
        "id": "397PbDhsfypP",
        "colab_type": "text"
      },
      "source": [
        "#Splines"
      ]
    },
    {
      "cell_type": "code",
      "metadata": {
        "id": "XsN0C9mSf05x",
        "colab_type": "code",
        "colab": {
          "base_uri": "https://localhost:8080/",
          "height": 34
        },
        "outputId": "d23ca88b-5033-4284-b9da-01adb20bfa41"
      },
      "source": [
        "x=np.array([3.0,4.5,7.0,9.0],dtype=float) #valores de x da tabela\n",
        "y=np.array([2.5,1.0,2.5,.5],dtype=float) #valores de y da tabela\n",
        "\n",
        "#nome da função em referência ao amigo Rafael que ajudou-me e tambem outros colegas a entender o padrão de preenchimento da matriz no metodo splines.\n",
        "def rafael_matriz_splines(val_x,val_y):\n",
        "  matriz=np.zeros((3*(val_x.shape[0]-1),3*(val_x.shape[0]-1)+1)) #numero de linhas e colunas da matriz\n",
        "  num_pol=val_x.shape[0]-1 #numero de polinomios para n pontos é n-1.\n",
        "\n",
        "  for i in range(matriz.shape[0]):\n",
        "    if i<2*num_pol: #até a linha equivalente a 2 vezes o numero de polinomios, a ultima coluna recebe os valores de f(x)\n",
        "      ind=i//2 #padrão para colocar os indices do vetor dos dos valores de x.\n",
        "      if i%2:\n",
        "        #se a linha for impar\n",
        "        matriz[i,ind]=val_x[ind+1]**2\n",
        "        matriz[i,ind+num_pol]=val_x[ind+1]\n",
        "        matriz[i,ind+2*num_pol]=1\n",
        "      else:\n",
        "        #se for par\n",
        "        matriz[i,ind]=val_x[ind]**2\n",
        "        matriz[i,ind+num_pol]=val_x[ind]\n",
        "        matriz[i,ind+2*num_pol]=1\n",
        "      matriz[i,-1]=val_y[(1+i)//2] #colocando os valores de f(x)\n",
        "    elif i<(matriz.shape[0]-1):\n",
        "      #preenchendo as condições das derivadas\n",
        "      matriz[i,i-2*num_pol]=2*val_x[i+1-2*num_pol]\n",
        "      matriz[i,i+1-2*num_pol]=-2*val_x[i+1-2*num_pol]\n",
        "      matriz[i,i-num_pol]=1\n",
        "      matriz[i,i+1-num_pol]=-1\n",
        "    else:\n",
        "      #a1=0\n",
        "      matriz[i,0]=1\n",
        "  return matriz;\n",
        "\n",
        "\n",
        "#ms = matriz spline preenchida\n",
        "def solucao_sistema(ms):\n",
        "  a=ms[:,:-1].copy(); #separa a matriz dos coeficientes\n",
        "  b=ms[:,-1].copy(); #matriz dos valores\n",
        "  return np.linalg.solve(a,b)\n",
        "\n",
        "\n",
        "#ssms = solução sistema matriz splines\n",
        "#val_x = valores de x da tabela\n",
        "#x = ponto intermediario que deseja encontrar f(x)\n",
        "\n",
        "def polinomio_splines(x,val_x,ssms):\n",
        "  k=val_x.shape[0]-1 #k é o numero de polinomios splines\n",
        "  for j in range (k):\n",
        "    if x<=val_x[j+1]: #se x está dentro do intervalo\n",
        "      return ssms[j]*x**2+ssms[j+k]*x+ssms[j+k*2] #retorna o valor splines de x, da forma ax^2+bx+c\n",
        "\n",
        "def splines(x,val_x,val_y):\n",
        "  k=rafael_matriz_splines(val_x,val_y)\n",
        "  k1=solucao_sistema(k)\n",
        "  k2=polinomio_splines(x,val_x,k1)\n",
        "  #print('f(',x,') = ',k2,sep='')\n",
        "  return k2;\n",
        "\n",
        "splines(4.1,x,y)"
      ],
      "execution_count": null,
      "outputs": [
        {
          "output_type": "execute_result",
          "data": {
            "text/plain": [
              "1.4000000000000004"
            ]
          },
          "metadata": {
            "tags": []
          },
          "execution_count": 35
        }
      ]
    }
  ]
}