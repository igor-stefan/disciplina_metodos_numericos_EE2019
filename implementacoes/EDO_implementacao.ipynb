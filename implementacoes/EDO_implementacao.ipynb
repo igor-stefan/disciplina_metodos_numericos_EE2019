{
  "nbformat": 4,
  "nbformat_minor": 0,
  "metadata": {
    "colab": {
      "name": "EDO_implementaçao.ipynb",
      "provenance": [],
      "collapsed_sections": [],
      "include_colab_link": true
    },
    "kernelspec": {
      "name": "python3",
      "display_name": "Python 3"
    }
  },
  "cells": [
    {
      "cell_type": "markdown",
      "metadata": {
        "id": "view-in-github",
        "colab_type": "text"
      },
      "source": [
        "<a href=\"https://colab.research.google.com/github/igor-stefan/metodos_numericos_2019/blob/master/implementacao_EDO.ipynb\" target=\"_parent\"><img src=\"https://colab.research.google.com/assets/colab-badge.svg\" alt=\"Open In Colab\"/></a>"
      ]
    },
    {
      "cell_type": "code",
      "metadata": {
        "id": "FrAk-lLZqJ_9",
        "colab_type": "code",
        "colab": {}
      },
      "source": [
        "import numpy as np"
      ],
      "execution_count": null,
      "outputs": []
    },
    {
      "cell_type": "code",
      "metadata": {
        "id": "EQ5sHgfOqcrt",
        "colab_type": "code",
        "colab": {}
      },
      "source": [
        "def g(x,y): #o f(x,y) é a derivada dy/dx isolada\n",
        "  return 3*np.exp(-x)-(.4*y)\n",
        "\n",
        "def k1(f,x,y):\n",
        "  return f(x,y)\n",
        "\n",
        "def k2(f,h,x,y,k1):\n",
        "  return f(x+(h/2), y+(h*k1/2))\n",
        "\n",
        "def k3(f,h,x,y,k2):\n",
        "  return f(x+(h/2), y+(h*k2/2))\n",
        "\n",
        "def k4(f,h,x,y,k3):\n",
        "  return f(x+h, y+h*k3)\n",
        "\n",
        "def rk4(f,h,x,y):\n",
        "  k_1=k1(f,x,y)\n",
        "  k_2=k2(f,h,x,y,k_1)\n",
        "  k_3=k3(f,h,x,y,k_2)\n",
        "  k_4=k4(f,h,x,y,k_3)\n",
        "  return y+((h/6)*(k_1+2*k_2+2*k_3+k_4))\n",
        "\n",
        "# o metodo consiste em inciar a interação com os valores de x0 e y0 fornecidos\n",
        "# a variavel h indica o passo ou intervalo entre um y conhecido e um y a ser calculado\n",
        "# quando a interação inicia, o h passa a ser o x e o valor retornado pela função rk4 é o novo y\n",
        "\n",
        "\n"
      ],
      "execution_count": null,
      "outputs": []
    },
    {
      "cell_type": "code",
      "metadata": {
        "id": "pQ2qTiSUhZXx",
        "colab_type": "code",
        "colab": {}
      },
      "source": [
        "def euler(f,h,x,y):\n",
        "  return y+(h*f(x,y))"
      ],
      "execution_count": null,
      "outputs": []
    },
    {
      "cell_type": "code",
      "metadata": {
        "id": "WrvcdrwJhibt",
        "colab_type": "code",
        "colab": {}
      },
      "source": [
        "def heun(f,h,x,y):\n",
        "  k_1=f(x,y)\n",
        "  k_2=f(x+h,y+(k_1*h))\n",
        "  return y+(.5*k_1+(.5*k_2))"
      ],
      "execution_count": null,
      "outputs": []
    },
    {
      "cell_type": "code",
      "metadata": {
        "id": "woKpV0p2ifoz",
        "colab_type": "code",
        "colab": {}
      },
      "source": [
        "def ponto_medio(f,h,x,y):\n",
        "  k_1=f(x,y)\n",
        "  k_2=f(x+(h/2),y+(k_1*h/2))\n",
        "  return y+(k_2*h)"
      ],
      "execution_count": null,
      "outputs": []
    },
    {
      "cell_type": "code",
      "metadata": {
        "id": "xFmX0tBmjBlz",
        "colab_type": "code",
        "colab": {}
      },
      "source": [
        "def ralston(f,h,x,y):\n",
        "  k_1=f(x,y)\n",
        "  k_2=f(x+(3*h/4),y+(3*k_1*h/4))\n",
        "  return y+(((k_1/3)+(2*k_2/3))*h)"
      ],
      "execution_count": null,
      "outputs": []
    }
  ]
}