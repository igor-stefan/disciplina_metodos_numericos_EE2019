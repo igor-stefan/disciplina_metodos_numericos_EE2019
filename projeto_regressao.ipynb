{
  "nbformat": 4,
  "nbformat_minor": 0,
  "metadata": {
    "colab": {
      "name": "projeto_regressao.ipynb",
      "provenance": [],
      "collapsed_sections": [],
      "authorship_tag": "ABX9TyMILT9pK3t552JlWKXe1HQ7",
      "include_colab_link": true
    },
    "kernelspec": {
      "name": "python3",
      "display_name": "Python 3"
    }
  },
  "cells": [
    {
      "cell_type": "markdown",
      "metadata": {
        "id": "view-in-github",
        "colab_type": "text"
      },
      "source": [
        "<a href=\"https://colab.research.google.com/github/igor-stefan/metodos_numericos_2019/blob/master/projeto_regressao.ipynb\" target=\"_parent\"><img src=\"https://colab.research.google.com/assets/colab-badge.svg\" alt=\"Open In Colab\"/></a>"
      ]
    },
    {
      "cell_type": "markdown",
      "metadata": {
        "id": "xPWU22H1LuhS",
        "colab_type": "text"
      },
      "source": [
        "#Felicidade ao redor do mundo\n",
        "#####Pontuação da felicidade das pessoas de um país de acordo com a produção econômica, apoio social, expectativa de vida, etc."
      ]
    },
    {
      "cell_type": "code",
      "metadata": {
        "id": "oGthGVvgAh4u",
        "colab_type": "code",
        "colab": {}
      },
      "source": [
        "#Importando bibliotecas e definindo função dos coeficientes da regressão\n",
        "from sklearn.model_selection import train_test_split\n",
        "from sklearn.linear_model import LinearRegression\n",
        "import matplotlib.pyplot as plt\n",
        "from google.colab import files\n",
        "from sklearn import metrics\n",
        "import seaborn as sns\n",
        "import pandas as pd\n",
        "import numpy as np\n",
        "\n",
        "def coeficientes(x,y):\n",
        "    m = x.shape[0]\n",
        "    sum_xi = np.sum(x)\n",
        "    sum_xi2 = np.sum(x**2)\n",
        "    sum_yi = np.sum(y)\n",
        "    sum_xiyi = np.sum(x*y)\n",
        "    return np.linalg.solve([[m,sum_xi],[sum_xi,sum_xi2]],[sum_yi,sum_xiyi])"
      ],
      "execution_count": null,
      "outputs": []
    },
    {
      "cell_type": "code",
      "metadata": {
        "id": "mkvTatSYAwVk",
        "colab_type": "code",
        "colab": {}
      },
      "source": [
        "#fazendo upload do dataset\n",
        "uploaded = files.upload()"
      ],
      "execution_count": null,
      "outputs": []
    },
    {
      "cell_type": "markdown",
      "metadata": {
        "id": "ISKpBsUfSC8x",
        "colab_type": "text"
      },
      "source": [
        "#Descrição\n",
        "<p align='justify'>Como visto na apresentação deste notebook, o projeto trata de uma análise da <b>pontuação</b> da felicidade das pessoas nos países ao redor do mundo, baseado em alguns(mas) fatores(variáveis). Especificamente, o <b>objetivo</b> do projeto é avaliar como a variação de um fator afeta a pontuação final da felicidade.</p>\n"
      ]
    },
    {
      "cell_type": "markdown",
      "metadata": {
        "id": "ochmWQoiQ01J",
        "colab_type": "text"
      },
      "source": [
        "#Apresentação do dataset\n",
        "<p align='justify'>O dataset apresenta dados do relatório mundial da felicidade de <b>2019</b>, upado no site <a><a href=\"https://www.kaggle.com/\">Kaggle</a> no dia 27/11/2019. Contém 156 países e informações distribuídas em 6 categorias. As categorias são avaliadas por um índice entre 0 e 10, sendo 0 o pior e 10 o melhor.</p>\n",
        "\n",
        "**Título:** World Happiness Report  \n",
        "**Disponível em:** [https://www.kaggle.com/unsdsn/world-happiness#2019.csv](https://www.kaggle.com/unsdsn/world-happiness#2019.csv) \n",
        "\n",
        "**Categorias de informações:** \n",
        "\n",
        "*   Score: Pontuação final da felicidade;\n",
        "*   GDP per capita: Produto interno bruto (PIB) per capita;\n",
        "*   Social support: Avaliação sobre projetos sociais, educação, saúde, tudo relacionado ao suporte pública.\n",
        "*   Healthy life expectancy: Avaliação sobre a expectativa de vida saudável;\n",
        "*   Freedom to make life choices: Índice do quão livre é o país;\n",
        "*   Generosity: Avalição da generosidade dos habitantes de um país;\n",
        "*   Perceptions of corruption: Avaliação sobre a percepção dos habitantes quanto à corrupção no país.\n",
        "\n",
        "<p align='justify'><b>OBS:</b> É informado, na descrição do dataset que a escala de avaliação é entre 0 e 10, entretanto, como será visto, algumas categorias não possuem valores maiores que 2. Nestes casos, não há informações no dataset de como este cálculo foi realizado.</p>\n",
        "\n",
        "<p align='justify'><b>Curiosidades:</b> </p>\n",
        "\n",
        "* O país em que as pessoas são mais felizes é a Finlândia\n",
        "* O Brasil ocupa a 32º posição com um score de 6.3\n",
        "* O país com o menor score de felicidade é o Sudão do Sul"
      ]
    },
    {
      "cell_type": "markdown",
      "metadata": {
        "id": "85SOJ17XZY6y",
        "colab_type": "text"
      },
      "source": [
        "#Início\n",
        "<p align='justify'>Primeiramente, é mostrado como os dados estão dispostos no dataset.</p>"
      ]
    },
    {
      "cell_type": "code",
      "metadata": {
        "id": "XFHxfoDqSDcX",
        "colab_type": "code",
        "colab": {
          "base_uri": "https://localhost:8080/",
          "height": 221
        },
        "outputId": "0cd093b4-cc7c-441a-9e5d-4e61479495f5"
      },
      "source": [
        "dados = pd.read_csv(\"2019.csv\", sep=\",\")\n",
        "dados.head()"
      ],
      "execution_count": null,
      "outputs": [
        {
          "output_type": "execute_result",
          "data": {
            "text/html": [
              "<div>\n",
              "<style scoped>\n",
              "    .dataframe tbody tr th:only-of-type {\n",
              "        vertical-align: middle;\n",
              "    }\n",
              "\n",
              "    .dataframe tbody tr th {\n",
              "        vertical-align: top;\n",
              "    }\n",
              "\n",
              "    .dataframe thead th {\n",
              "        text-align: right;\n",
              "    }\n",
              "</style>\n",
              "<table border=\"1\" class=\"dataframe\">\n",
              "  <thead>\n",
              "    <tr style=\"text-align: right;\">\n",
              "      <th></th>\n",
              "      <th>Overall rank</th>\n",
              "      <th>Country or region</th>\n",
              "      <th>Score</th>\n",
              "      <th>GDP per capita</th>\n",
              "      <th>Social support</th>\n",
              "      <th>Healthy life expectancy</th>\n",
              "      <th>Freedom to make life choices</th>\n",
              "      <th>Generosity</th>\n",
              "      <th>Perceptions of corruption</th>\n",
              "    </tr>\n",
              "  </thead>\n",
              "  <tbody>\n",
              "    <tr>\n",
              "      <th>0</th>\n",
              "      <td>1</td>\n",
              "      <td>Finland</td>\n",
              "      <td>7.769</td>\n",
              "      <td>1.340</td>\n",
              "      <td>1.587</td>\n",
              "      <td>0.986</td>\n",
              "      <td>0.596</td>\n",
              "      <td>0.153</td>\n",
              "      <td>0.393</td>\n",
              "    </tr>\n",
              "    <tr>\n",
              "      <th>1</th>\n",
              "      <td>2</td>\n",
              "      <td>Denmark</td>\n",
              "      <td>7.600</td>\n",
              "      <td>1.383</td>\n",
              "      <td>1.573</td>\n",
              "      <td>0.996</td>\n",
              "      <td>0.592</td>\n",
              "      <td>0.252</td>\n",
              "      <td>0.410</td>\n",
              "    </tr>\n",
              "    <tr>\n",
              "      <th>2</th>\n",
              "      <td>3</td>\n",
              "      <td>Norway</td>\n",
              "      <td>7.554</td>\n",
              "      <td>1.488</td>\n",
              "      <td>1.582</td>\n",
              "      <td>1.028</td>\n",
              "      <td>0.603</td>\n",
              "      <td>0.271</td>\n",
              "      <td>0.341</td>\n",
              "    </tr>\n",
              "    <tr>\n",
              "      <th>3</th>\n",
              "      <td>4</td>\n",
              "      <td>Iceland</td>\n",
              "      <td>7.494</td>\n",
              "      <td>1.380</td>\n",
              "      <td>1.624</td>\n",
              "      <td>1.026</td>\n",
              "      <td>0.591</td>\n",
              "      <td>0.354</td>\n",
              "      <td>0.118</td>\n",
              "    </tr>\n",
              "    <tr>\n",
              "      <th>4</th>\n",
              "      <td>5</td>\n",
              "      <td>Netherlands</td>\n",
              "      <td>7.488</td>\n",
              "      <td>1.396</td>\n",
              "      <td>1.522</td>\n",
              "      <td>0.999</td>\n",
              "      <td>0.557</td>\n",
              "      <td>0.322</td>\n",
              "      <td>0.298</td>\n",
              "    </tr>\n",
              "  </tbody>\n",
              "</table>\n",
              "</div>"
            ],
            "text/plain": [
              "   Overall rank Country or region  ...  Generosity  Perceptions of corruption\n",
              "0             1           Finland  ...       0.153                      0.393\n",
              "1             2           Denmark  ...       0.252                      0.410\n",
              "2             3            Norway  ...       0.271                      0.341\n",
              "3             4           Iceland  ...       0.354                      0.118\n",
              "4             5       Netherlands  ...       0.322                      0.298\n",
              "\n",
              "[5 rows x 9 columns]"
            ]
          },
          "metadata": {
            "tags": []
          },
          "execution_count": 192
        }
      ]
    },
    {
      "cell_type": "markdown",
      "metadata": {
        "id": "MdN_Yy7HZw9V",
        "colab_type": "text"
      },
      "source": [
        "#Estatísticas\n",
        "<p align='justify'>São mostradas as estatísticas do dataset por categoria, tais como: número de elementos, média, desvio padrão, valor mínimo, valor máximo, etc.</p>"
      ]
    },
    {
      "cell_type": "code",
      "metadata": {
        "id": "CAYjy5guVXS6",
        "colab_type": "code",
        "colab": {
          "base_uri": "https://localhost:8080/",
          "height": 297
        },
        "outputId": "9576bd10-14c4-42c0-8487-662c3c02523a"
      },
      "source": [
        "dados.describe().round(2)"
      ],
      "execution_count": null,
      "outputs": [
        {
          "output_type": "execute_result",
          "data": {
            "text/html": [
              "<div>\n",
              "<style scoped>\n",
              "    .dataframe tbody tr th:only-of-type {\n",
              "        vertical-align: middle;\n",
              "    }\n",
              "\n",
              "    .dataframe tbody tr th {\n",
              "        vertical-align: top;\n",
              "    }\n",
              "\n",
              "    .dataframe thead th {\n",
              "        text-align: right;\n",
              "    }\n",
              "</style>\n",
              "<table border=\"1\" class=\"dataframe\">\n",
              "  <thead>\n",
              "    <tr style=\"text-align: right;\">\n",
              "      <th></th>\n",
              "      <th>Overall rank</th>\n",
              "      <th>Score</th>\n",
              "      <th>GDP per capita</th>\n",
              "      <th>Social support</th>\n",
              "      <th>Healthy life expectancy</th>\n",
              "      <th>Freedom to make life choices</th>\n",
              "      <th>Generosity</th>\n",
              "      <th>Perceptions of corruption</th>\n",
              "    </tr>\n",
              "  </thead>\n",
              "  <tbody>\n",
              "    <tr>\n",
              "      <th>count</th>\n",
              "      <td>156.00</td>\n",
              "      <td>156.00</td>\n",
              "      <td>156.00</td>\n",
              "      <td>156.00</td>\n",
              "      <td>156.00</td>\n",
              "      <td>156.00</td>\n",
              "      <td>156.00</td>\n",
              "      <td>156.00</td>\n",
              "    </tr>\n",
              "    <tr>\n",
              "      <th>mean</th>\n",
              "      <td>78.50</td>\n",
              "      <td>5.41</td>\n",
              "      <td>0.91</td>\n",
              "      <td>1.21</td>\n",
              "      <td>0.73</td>\n",
              "      <td>0.39</td>\n",
              "      <td>0.18</td>\n",
              "      <td>0.11</td>\n",
              "    </tr>\n",
              "    <tr>\n",
              "      <th>std</th>\n",
              "      <td>45.18</td>\n",
              "      <td>1.11</td>\n",
              "      <td>0.40</td>\n",
              "      <td>0.30</td>\n",
              "      <td>0.24</td>\n",
              "      <td>0.14</td>\n",
              "      <td>0.10</td>\n",
              "      <td>0.09</td>\n",
              "    </tr>\n",
              "    <tr>\n",
              "      <th>min</th>\n",
              "      <td>1.00</td>\n",
              "      <td>2.85</td>\n",
              "      <td>0.00</td>\n",
              "      <td>0.00</td>\n",
              "      <td>0.00</td>\n",
              "      <td>0.00</td>\n",
              "      <td>0.00</td>\n",
              "      <td>0.00</td>\n",
              "    </tr>\n",
              "    <tr>\n",
              "      <th>25%</th>\n",
              "      <td>39.75</td>\n",
              "      <td>4.54</td>\n",
              "      <td>0.60</td>\n",
              "      <td>1.06</td>\n",
              "      <td>0.55</td>\n",
              "      <td>0.31</td>\n",
              "      <td>0.11</td>\n",
              "      <td>0.05</td>\n",
              "    </tr>\n",
              "    <tr>\n",
              "      <th>50%</th>\n",
              "      <td>78.50</td>\n",
              "      <td>5.38</td>\n",
              "      <td>0.96</td>\n",
              "      <td>1.27</td>\n",
              "      <td>0.79</td>\n",
              "      <td>0.42</td>\n",
              "      <td>0.18</td>\n",
              "      <td>0.09</td>\n",
              "    </tr>\n",
              "    <tr>\n",
              "      <th>75%</th>\n",
              "      <td>117.25</td>\n",
              "      <td>6.18</td>\n",
              "      <td>1.23</td>\n",
              "      <td>1.45</td>\n",
              "      <td>0.88</td>\n",
              "      <td>0.51</td>\n",
              "      <td>0.25</td>\n",
              "      <td>0.14</td>\n",
              "    </tr>\n",
              "    <tr>\n",
              "      <th>max</th>\n",
              "      <td>156.00</td>\n",
              "      <td>7.77</td>\n",
              "      <td>1.68</td>\n",
              "      <td>1.62</td>\n",
              "      <td>1.14</td>\n",
              "      <td>0.63</td>\n",
              "      <td>0.57</td>\n",
              "      <td>0.45</td>\n",
              "    </tr>\n",
              "  </tbody>\n",
              "</table>\n",
              "</div>"
            ],
            "text/plain": [
              "       Overall rank   Score  ...  Generosity  Perceptions of corruption\n",
              "count        156.00  156.00  ...      156.00                     156.00\n",
              "mean          78.50    5.41  ...        0.18                       0.11\n",
              "std           45.18    1.11  ...        0.10                       0.09\n",
              "min            1.00    2.85  ...        0.00                       0.00\n",
              "25%           39.75    4.54  ...        0.11                       0.05\n",
              "50%           78.50    5.38  ...        0.18                       0.09\n",
              "75%          117.25    6.18  ...        0.25                       0.14\n",
              "max          156.00    7.77  ...        0.57                       0.45\n",
              "\n",
              "[8 rows x 8 columns]"
            ]
          },
          "metadata": {
            "tags": []
          },
          "execution_count": 193
        }
      ]
    },
    {
      "cell_type": "markdown",
      "metadata": {
        "id": "b7AZLBGzaRcr",
        "colab_type": "text"
      },
      "source": [
        "#Distribuição das pontuações de felicidade\n",
        "<p align='justify'>Abaixo é mostrada como estão distribuídas as pontuações de felicidade dos países. O menor valor, de acordo com a tabela acima e também visível no gráfico é 2.85, o maior valor é 7.77 .</p>"
      ]
    },
    {
      "cell_type": "code",
      "metadata": {
        "id": "85NrKNUFVZkQ",
        "colab_type": "code",
        "colab": {
          "base_uri": "https://localhost:8080/",
          "height": 388
        },
        "outputId": "83a582c2-59af-41d3-be24-1b6e7d252827"
      },
      "source": [
        "ax = sns.distplot(dados['Score'])\n",
        "ax.figure.set_size_inches(13,6)"
      ],
      "execution_count": null,
      "outputs": [
        {
          "output_type": "display_data",
          "data": {
            "image/png": "[encoded data removed]",
            "text/plain": [
              "<Figure size 936x432 with 1 Axes>"
            ]
          },
          "metadata": {
            "tags": []
          }
        }
      ]
    },
    {
      "cell_type": "markdown",
      "metadata": {
        "id": "6_-1U-XGbMwW",
        "colab_type": "text"
      },
      "source": [
        "#Correlação\n",
        "<p align='justify'>Abaixo é mostrada uma tabela com o índice de correlação entre os fatores. Perceba que \"generosity\" e \"perceptions of corruption\" apresentam valores de correlação com outras categorias <b>muito baixos</b> ($-0.2<val<0.2$), por isso foram fatores desconsiderados na análise por regressão linear. As categorias a serem analisadas são: GDP per capita, Social support, Healthy life expectancy e Freedom to make life choices.</p>"
      ]
    },
    {
      "cell_type": "code",
      "metadata": {
        "id": "3ttLQDzsVqfc",
        "colab_type": "code",
        "colab": {
          "base_uri": "https://localhost:8080/",
          "height": 331
        },
        "outputId": "572d6e65-7808-4839-b405-569a02fce334"
      },
      "source": [
        "dados.corr().round(4)"
      ],
      "execution_count": null,
      "outputs": [
        {
          "output_type": "execute_result",
          "data": {
            "text/html": [
              "<div>\n",
              "<style scoped>\n",
              "    .dataframe tbody tr th:only-of-type {\n",
              "        vertical-align: middle;\n",
              "    }\n",
              "\n",
              "    .dataframe tbody tr th {\n",
              "        vertical-align: top;\n",
              "    }\n",
              "\n",
              "    .dataframe thead th {\n",
              "        text-align: right;\n",
              "    }\n",
              "</style>\n",
              "<table border=\"1\" class=\"dataframe\">\n",
              "  <thead>\n",
              "    <tr style=\"text-align: right;\">\n",
              "      <th></th>\n",
              "      <th>Overall rank</th>\n",
              "      <th>Score</th>\n",
              "      <th>GDP per capita</th>\n",
              "      <th>Social support</th>\n",
              "      <th>Healthy life expectancy</th>\n",
              "      <th>Freedom to make life choices</th>\n",
              "      <th>Generosity</th>\n",
              "      <th>Perceptions of corruption</th>\n",
              "    </tr>\n",
              "  </thead>\n",
              "  <tbody>\n",
              "    <tr>\n",
              "      <th>Overall rank</th>\n",
              "      <td>1.0000</td>\n",
              "      <td>-0.9891</td>\n",
              "      <td>-0.8019</td>\n",
              "      <td>-0.7675</td>\n",
              "      <td>-0.7874</td>\n",
              "      <td>-0.5466</td>\n",
              "      <td>-0.0480</td>\n",
              "      <td>-0.3520</td>\n",
              "    </tr>\n",
              "    <tr>\n",
              "      <th>Score</th>\n",
              "      <td>-0.9891</td>\n",
              "      <td>1.0000</td>\n",
              "      <td>0.7939</td>\n",
              "      <td>0.7771</td>\n",
              "      <td>0.7799</td>\n",
              "      <td>0.5667</td>\n",
              "      <td>0.0758</td>\n",
              "      <td>0.3856</td>\n",
              "    </tr>\n",
              "    <tr>\n",
              "      <th>GDP per capita</th>\n",
              "      <td>-0.8019</td>\n",
              "      <td>0.7939</td>\n",
              "      <td>1.0000</td>\n",
              "      <td>0.7549</td>\n",
              "      <td>0.8355</td>\n",
              "      <td>0.3791</td>\n",
              "      <td>-0.0797</td>\n",
              "      <td>0.2989</td>\n",
              "    </tr>\n",
              "    <tr>\n",
              "      <th>Social support</th>\n",
              "      <td>-0.7675</td>\n",
              "      <td>0.7771</td>\n",
              "      <td>0.7549</td>\n",
              "      <td>1.0000</td>\n",
              "      <td>0.7190</td>\n",
              "      <td>0.4473</td>\n",
              "      <td>-0.0481</td>\n",
              "      <td>0.1819</td>\n",
              "    </tr>\n",
              "    <tr>\n",
              "      <th>Healthy life expectancy</th>\n",
              "      <td>-0.7874</td>\n",
              "      <td>0.7799</td>\n",
              "      <td>0.8355</td>\n",
              "      <td>0.7190</td>\n",
              "      <td>1.0000</td>\n",
              "      <td>0.3904</td>\n",
              "      <td>-0.0295</td>\n",
              "      <td>0.2953</td>\n",
              "    </tr>\n",
              "    <tr>\n",
              "      <th>Freedom to make life choices</th>\n",
              "      <td>-0.5466</td>\n",
              "      <td>0.5667</td>\n",
              "      <td>0.3791</td>\n",
              "      <td>0.4473</td>\n",
              "      <td>0.3904</td>\n",
              "      <td>1.0000</td>\n",
              "      <td>0.2697</td>\n",
              "      <td>0.4388</td>\n",
              "    </tr>\n",
              "    <tr>\n",
              "      <th>Generosity</th>\n",
              "      <td>-0.0480</td>\n",
              "      <td>0.0758</td>\n",
              "      <td>-0.0797</td>\n",
              "      <td>-0.0481</td>\n",
              "      <td>-0.0295</td>\n",
              "      <td>0.2697</td>\n",
              "      <td>1.0000</td>\n",
              "      <td>0.3265</td>\n",
              "    </tr>\n",
              "    <tr>\n",
              "      <th>Perceptions of corruption</th>\n",
              "      <td>-0.3520</td>\n",
              "      <td>0.3856</td>\n",
              "      <td>0.2989</td>\n",
              "      <td>0.1819</td>\n",
              "      <td>0.2953</td>\n",
              "      <td>0.4388</td>\n",
              "      <td>0.3265</td>\n",
              "      <td>1.0000</td>\n",
              "    </tr>\n",
              "  </tbody>\n",
              "</table>\n",
              "</div>"
            ],
            "text/plain": [
              "                              Overall rank  ...  Perceptions of corruption\n",
              "Overall rank                        1.0000  ...                    -0.3520\n",
              "Score                              -0.9891  ...                     0.3856\n",
              "GDP per capita                     -0.8019  ...                     0.2989\n",
              "Social support                     -0.7675  ...                     0.1819\n",
              "Healthy life expectancy            -0.7874  ...                     0.2953\n",
              "Freedom to make life choices       -0.5466  ...                     0.4388\n",
              "Generosity                         -0.0480  ...                     0.3265\n",
              "Perceptions of corruption          -0.3520  ...                     1.0000\n",
              "\n",
              "[8 rows x 8 columns]"
            ]
          },
          "metadata": {
            "tags": []
          },
          "execution_count": 195
        }
      ]
    },
    {
      "cell_type": "markdown",
      "metadata": {
        "id": "IN8XWm5ccyU_",
        "colab_type": "text"
      },
      "source": [
        "#Análise\n",
        "<p align='justify'>A seguir serão mostradas a relação entre a pontuação final de felicidade (Score) e as outras quatro categorias selecionadas individualmente.</p>\n",
        "<p align='justify'> Será mostrada a equação da reta como $f(x)$ , a distribuição dos pontos no gráfico e a média dos valores quadrados da distância dos pontos à reta (r2_score). O melhor r2_score possível é 1.</p>\n",
        "<p align='justify'> Foi criada uma função para projetar o gráfico e apresentar o r2_score, juntamente com um vetor contendo todas as categorias para facilitar o processo.</p>"
      ]
    },
    {
      "cell_type": "code",
      "metadata": {
        "id": "eLiXFsf8fEYa",
        "colab_type": "code",
        "colab": {}
      },
      "source": [
        "var=['Score','GDP per capita','Social support','Healthy life expectancy','Freedom to make life choices']\n",
        "\n",
        "def plotar_grafico(v1,v2,m,p):\n",
        "  plt.figure(figsize=(8,8))\n",
        "  plt.plot(dados[v1],dados[v2],'bo')\n",
        "  plt.xlabel(v1)\n",
        "  plt.ylabel(v2)\n",
        "  b0,b1 = coeficientes(dados[v1],dados[v2]) #retorna os coeficientes da relação x , y\n",
        "  print('f(x) = ', b0 ,' + ', b1,'x',sep='')\n",
        "  y_previsto = b0 + b1*(dados[v1])\n",
        "  r2s=metrics.r2_score(dados[v2],y_previsto)\n",
        "  print('r2_score =',r2s)\n",
        "  x1 = np.linspace(0,m,p)\n",
        "  y1 = b0 + b1*x1\n",
        "  plt.plot(x1,y1,color='red')\n",
        "  plt.grid(1)\n",
        "  plt.show()\n"
      ],
      "execution_count": null,
      "outputs": []
    },
    {
      "cell_type": "markdown",
      "metadata": {
        "id": "d0coWP9fleJt",
        "colab_type": "text"
      },
      "source": [
        "#Score x GDP per capita"
      ]
    },
    {
      "cell_type": "code",
      "metadata": {
        "id": "xkQirgMRb8A8",
        "colab_type": "code",
        "colab": {
          "base_uri": "https://localhost:8080/",
          "height": 531
        },
        "outputId": "9702c79a-7b9a-45e7-816c-8a404b32e988"
      },
      "source": [
        "plotar_grafico(var[1],var[0],2,201)"
      ],
      "execution_count": null,
      "outputs": [
        {
          "output_type": "stream",
          "text": [
            "f(x) = 3.3993451782924127 + 2.2181480010083607x\n",
            "r2_score = 0.6302500079104005\n"
          ],
          "name": "stdout"
        },
        {
          "output_type": "display_data",
          "data": {
            "image/png": "[encoded data removed]",
            "text/plain": [
              "<Figure size 576x576 with 1 Axes>"
            ]
          },
          "metadata": {
            "tags": []
          }
        }
      ]
    },
    {
      "cell_type": "markdown",
      "metadata": {
        "id": "U0xRO4YDmyvA",
        "colab_type": "text"
      },
      "source": [
        "#Score x Social support"
      ]
    },
    {
      "cell_type": "code",
      "metadata": {
        "id": "1-SkOLNXnMTA",
        "colab_type": "code",
        "colab": {
          "base_uri": "https://localhost:8080/",
          "height": 531
        },
        "outputId": "c3d3ad6f-236a-4d69-baa1-021083ea5c32"
      },
      "source": [
        "plotar_grafico(var[2],var[0],2,201)"
      ],
      "execution_count": null,
      "outputs": [
        {
          "output_type": "stream",
          "text": [
            "f(x) = 1.912430244716489 + 2.890987044010223x\n",
            "r2_score = 0.6038188059907055\n"
          ],
          "name": "stdout"
        },
        {
          "output_type": "display_data",
          "data": {
            "image/png": "[encoded data removed]",
            "text/plain": [
              "<Figure size 576x576 with 1 Axes>"
            ]
          },
          "metadata": {
            "tags": []
          }
        }
      ]
    },
    {
      "cell_type": "markdown",
      "metadata": {
        "id": "Jfh6pZESmzZ1",
        "colab_type": "text"
      },
      "source": [
        "#Score x Healthy life expectancy"
      ]
    },
    {
      "cell_type": "code",
      "metadata": {
        "id": "UUHFin3LnLVb",
        "colab_type": "code",
        "colab": {
          "base_uri": "https://localhost:8080/",
          "height": 533
        },
        "outputId": "a1b3e50f-8334-4a92-b5e4-f5e3970a96d9"
      },
      "source": [
        "plotar_grafico(var[3],var[0],1.3,131)"
      ],
      "execution_count": null,
      "outputs": [
        {
          "output_type": "stream",
          "text": [
            "f(x) = 2.806831615470375 + 3.585367144430885x\n",
            "r2_score = 0.608217726472529\n"
          ],
          "name": "stdout"
        },
        {
          "output_type": "display_data",
          "data": {
            "image/png": "[encoded data removed]",
            "text/plain": [
              "<Figure size 576x576 with 1 Axes>"
            ]
          },
          "metadata": {
            "tags": []
          }
        }
      ]
    },
    {
      "cell_type": "markdown",
      "metadata": {
        "id": "FW1gDxpJnFse",
        "colab_type": "text"
      },
      "source": [
        "#Score x Freedom to make life choices"
      ]
    },
    {
      "cell_type": "code",
      "metadata": {
        "id": "MNie7QArfrXo",
        "colab_type": "code",
        "colab": {
          "base_uri": "https://localhost:8080/",
          "height": 531
        },
        "outputId": "d08115db-1c18-4b3b-c639-e3b48883d4bc"
      },
      "source": [
        "plotar_grafico(var[4],var[0],1,101)"
      ],
      "execution_count": null,
      "outputs": [
        {
          "output_type": "stream",
          "text": [
            "f(x) = 3.6787505211988836 + 4.402637427425647x\n",
            "r2_score = 0.32119629702042796\n"
          ],
          "name": "stdout"
        },
        {
          "output_type": "display_data",
          "data": {
            "image/png": "[encoded data removed]",
            "text/plain": [
              "<Figure size 576x576 with 1 Axes>"
            ]
          },
          "metadata": {
            "tags": []
          }
        }
      ]
    },
    {
      "cell_type": "markdown",
      "metadata": {
        "id": "gP2iCdgof9zN",
        "colab_type": "text"
      },
      "source": [
        "#Previsões\n",
        "<p align='justify'>Para realizar previsões pontuais do <b>score de felicidade</b>, basta aplicar um valor à função $f(x)$ específica. Abaixo são definidas essas funções e realizada uma previsão para o score com:</p>\n",
        "\n",
        "*   GDP per capita = 1.25 (max=1.68)\n",
        "*   Social support = 0.69 (max=1.62)\n",
        "*   Healthy life expectancy = 0.4 (max=1.14)\n",
        "*   Freedom to make life choices = 0.12 (max=0.63)\n",
        "\n",
        "<p align='justify'>Apesar disso, perceba que o r2_score não foi tão bom, sendo o maior r2_score $r2_s \\approx 0{,}63$. Em seguida será realizada uma regressão linear envolvendo coeficientes extras com o objetivo de melhorar o r2_score e obter um resultado mais preciso.<b> Obs:</b> o valor de \"max\" acima não indica qual o maior valor permitido, mas o maior valor na categoria presente no dataset, foi colocado apenas como referência.</p>\n"
      ]
    },
    {
      "cell_type": "code",
      "metadata": {
        "id": "MChZ1vYrlN3R",
        "colab_type": "code",
        "colab": {
          "base_uri": "https://localhost:8080/",
          "height": 204
        },
        "outputId": "d4aac4e2-0adc-4353-d8b8-172a36420791"
      },
      "source": [
        "def score_gdp(x):\n",
        "  return  3.3993451782924127 + 2.2181480010083607*x\n",
        "def score_social(x):\n",
        "  return 1.912430244716489 + 2.890987044010223*x\n",
        "def score_hle(x):\n",
        "  return 2.806831615470375 + 3.585367144430885*x\n",
        "def score_freedom(x):\n",
        "  return  3.6787505211988836 + 4.402637427425647*x\n",
        "\n",
        "print('Para \"GDP per capita\" = 1.25\\nScore = ',score_gdp(1.25))\n",
        "print('\\nPara \"Social support\" = 0.69\\nScore = ',score_social(0.69))\n",
        "print('\\nPara \"Healthy life expectancy\" = 0.4\\nScore = ',score_hle(.4))\n",
        "print('\\nPara \"Freedom to make life choices\" = 0.12\\nScore = ',score_freedom(.12))"
      ],
      "execution_count": null,
      "outputs": [
        {
          "output_type": "stream",
          "text": [
            "Para \"GDP per capita\" = 1.25\n",
            "Score =  6.172030179552864\n",
            "\n",
            "Para \"Social support\" = 0.69\n",
            "Score =  3.9072113050835426\n",
            "\n",
            "Para \"Healthy life expectancy\" = 0.4\n",
            "Score =  4.240978473242729\n",
            "\n",
            "Para \"Freedom to make life choices\" = 0.12\n",
            "Score =  4.207067012489961\n"
          ],
          "name": "stdout"
        }
      ]
    },
    {
      "cell_type": "markdown",
      "metadata": {
        "id": "AhGXxGYTnF8F",
        "colab_type": "text"
      },
      "source": [
        "#Coeficientes extras\n",
        "<p align = 'justify'>O objetivo da regressão com coeficientes extras é encontrar uma equação do tipo: $$Y = \\beta_1 +\\beta_2x_2 + \\beta_3x_3 + \\beta_4x_4 + \\beta_5x_5 $$  Em que: </p>\n",
        "\n",
        "* $Y$ é a variável dependente\n",
        "* $\\beta_1$ é o intercepto\n",
        "* $\\beta_2, \\beta_3, \\beta_4$ e $\\beta_5$ são os coeficientes de regressão\n",
        "* $x_2,x_3,x_4$ e $x_5$ são as variáveis explicativas\n",
        "\n",
        "<p align='justify'> Ao final da regressão será explicado qual a interpretação desses coeficientes, perceba que o número de coeficientes depende do número de variáveis explicativas.</p>\n",
        "<p align = 'justify'>Para realizar a regressão com coeficientes extras será necessário importar alguns atributos do módulo <a><a href=\"https://scikit-learn.org/stable/\">scikit-learn</a>, por exemplo <i>LinearRegression</i>. Neste projeto, foram importados na primeira cédula de código.</p>\n",
        "<p align='justify'>O procedimento consiste em fazer o computador realizar um treino com os valores das variáveis explicativas fornecidas para adequar o valor dos coeficientes buscando o resultado correto, em seguida serão previstos alguns valores de $y$ utilizando esses coeficientes. Então será calculado o r2_score entre os valores previstos de $y$ e o valor real de $y$ para avaliar a precisão da regressão. Para isso, o dataset será dividido em dois grupos: o de <b>treino</b> e o de <b>teste</b>, cada um sendo utilizado em sua respectiva fase.</p>\n",
        "\n",
        "<p align='justify'> Seguem os passos:</p>\n",
        "\n",
        "<p align='justify'><b>1.</b> Cria-se uma Serie para armazenar os valores da variável dependente (y).</p>\n",
        "<p align='justify'><b>2.</b> Cria-se um DataFrame para armazenar os coeficientes extras, chamados variáveis explicativas (x).</p>\n",
        "<p align='justify'><b>3.</b> Divide-se o dataset em duas partes.</p>\n",
        "<p align='justify'><b>4.</b> Instancia-se a classe <i>LinearRegression</i>.</p>\n",
        "<p align='justify'><b>5.</b> Estima-se o modelo linear da equação acima utilizando o método <b>fit()</b> do objeto instanciado (faz o treino) utilizando o dataset do treino.</p>\n",
        "<p align='justify'><b>6.</b> Faz-se a previsão dos valores de $y$ utilizando o dataset de teste com o método <b>predict()</b>.</p>\n",
        "<p align='justify'><b>7.</b> Calcula-se o r2_score entre os valores reais de $y$ e os valores previstos de $y$.</p>\n",
        "<p align='justify'><b>8.</b> Obtém-se o coeficiente intercepto.</p>\n",
        "<p align='justify'><b>9.</b> Obtém-se os coeficientes das variáveis explicativas.</p>\n",
        "<p align='justify'><b>10.</b> Cria-se uma função para ser utilizada como simulador do modelo obtido (Opcional).</p>"
      ]
    },
    {
      "cell_type": "code",
      "metadata": {
        "id": "eteRR0lQ0ZUA",
        "colab_type": "code",
        "colab": {
          "base_uri": "https://localhost:8080/",
          "height": 85
        },
        "outputId": "0f282392-d5bf-4da4-e21f-fd82133b58b5"
      },
      "source": [
        "y = dados['Score'] #1. Serie para armazenar os valores da variável dependente\n",
        "x = dados[['GDP per capita','Social support','Healthy life expectancy','Freedom to make life choices']] #2. DataFrame variáveis explicativas\n",
        "x_train,x_test, y_train, y_test = train_test_split(x,y,test_size=0.3,random_state=702) #3. Dividindo o dataset -> 30%  para teste / 70% para treino\n",
        "modelo = LinearRegression() #4. Instanciando a classe\n",
        "modelo.fit(x_train, y_train) #5. Treino utilizando o dataset de treino\n",
        "y_previsto = modelo.predict(x_test) #6. Previsão utilizando o dataset de teste\n",
        "b=metrics.r2_score(y_test,y_previsto) #7. Calcula-se o r2_score\n",
        "c=modelo.score(x_test,y_test) #os dois modos são equivalentes\n",
        "print('r2_score =',b)\n",
        "print('r2_score =',c)\n",
        "k1=modelo.intercept_.round(2) #8. Retorna o valor do coeficiente intercepto  \n",
        "print('intercepto =',k1) \n",
        "k2=modelo.coef_.round(2) #9 Retorna os valores dos coeficientes Beta_n\n",
        "print('coeficientes = ',k2)"
      ],
      "execution_count": null,
      "outputs": [
        {
          "output_type": "stream",
          "text": [
            "r2_score = 0.878154031825428\n",
            "r2_score = 0.878154031825428\n",
            "intercepto = 1.96\n",
            "coeficientes =  [0.84 0.98 1.   1.97]\n"
          ],
          "name": "stdout"
        }
      ]
    },
    {
      "cell_type": "markdown",
      "metadata": {
        "id": "376SWrPW1tsH",
        "colab_type": "text"
      },
      "source": [
        "#Sobre train_test_split:\n",
        "<p align='justify'>O método train_test_split possui como um dos argumentos, \"random_state\", que influência no r2_score final pois é o valor da semente utilizada no gerador de números aleatórios para a separação do dataset. Algumas divisões no dataset resultam em treinos melhores que outros.</p> \n",
        "<p align='justify'>Neste projeto, foi escolhido o número 702, pois foi o que apresentou melhor r2_score ao final dos testes. Para isso, foram criados e testados mil modelos, o resultado está na cédula abaixo.</p>\n",
        "<p align='justify'>Para não ocorrer alteração nos dados do projeto, foi apenas acrescentado o numero 1 ao final de cada variável. Perceba que o r2_score obtido foi o mesmo da cédula de código acima e este é o maior possível entre as seeds de 0 a 999.</p>"
      ]
    },
    {
      "cell_type": "code",
      "metadata": {
        "id": "l0OKejYs-Hzf",
        "colab_type": "code",
        "colab": {
          "base_uri": "https://localhost:8080/",
          "height": 34
        },
        "outputId": "d3f53b46-896e-48a0-b6e6-57f843887130"
      },
      "source": [
        "maior = -1.0\n",
        "for i in range(1000):\n",
        "  y1 = dados['Score'] \n",
        "  x1 = dados[['GDP per capita','Social support','Healthy life expectancy','Freedom to make life choices']]\n",
        "  x_train1,x_test1, y_train1, y_test1 = train_test_split(x1,y1,test_size=0.3,random_state=i)\n",
        "  modelo1 = LinearRegression() \n",
        "  modelo1.fit(x_train1, y_train1) \n",
        "  r=modelo1.score(x_test1,y_test1) \n",
        "  if(maior<r):\n",
        "    maior=r\n",
        "    j=i\n",
        "print('maior =',maior,'seed =',j)"
      ],
      "execution_count": null,
      "outputs": [
        {
          "output_type": "stream",
          "text": [
            "maior = 0.878154031825428 seed = 702\n"
          ],
          "name": "stdout"
        }
      ]
    },
    {
      "cell_type": "markdown",
      "metadata": {
        "id": "0mG8_0KR8JgA",
        "colab_type": "text"
      },
      "source": [
        "#Criando um simulador\n",
        "<p align='justify'>Abaixo foi criada uma função que com base nos valores fornecidos para cada uma das categorias, obtém-se uma pontuação para a <b>felicidade</b> (Score, como está no dataset). Repetindo o exemplo anterior, simulado na regressão linear sem coeficientes extras:\n",
        "\n",
        "*   GDP per capita = 1.25 (max=1.68)\n",
        "*   Social support = 0.69 (max=1.62)\n",
        "*   Healthy life expectancy = 0.4 (max=1.14)\n",
        "*   Freedom to make life choices = 0.12 (max=0.63)\n",
        "\n",
        "</p>"
      ]
    },
    {
      "cell_type": "code",
      "metadata": {
        "id": "sCogLhG21XqW",
        "colab_type": "code",
        "colab": {
          "base_uri": "https://localhost:8080/",
          "height": 34
        },
        "outputId": "f3815e60-167c-4139-f09f-8de207afdd1e"
      },
      "source": [
        "#simulador simples\n",
        "def simulador(gdp,social_support,life_expectation,freedom_choices):\n",
        "  entrada = [[gdp,social_support,life_expectation,freedom_choices]]\n",
        "  print('Score = {0:.2f}'.format(modelo.predict(entrada)[0])) #perceba o uso do objeto modelo e o metodo predict \n",
        "simulador(1.25,.69,.4,.12)"
      ],
      "execution_count": null,
      "outputs": [
        {
          "output_type": "stream",
          "text": [
            "Score = 4.32\n"
          ],
          "name": "stdout"
        }
      ]
    },
    {
      "cell_type": "markdown",
      "metadata": {
        "id": "MJCzsSA3CRwL",
        "colab_type": "text"
      },
      "source": [
        "#Equação final do modelo:\n",
        "<p align='justify'>O valor dos coeficientes obtidos foi:</p>\n",
        "\n",
        "* $\\beta_1 = 1{,}96 $\n",
        "* $\\beta_2 = 0{,}84 $\n",
        "* $\\beta_3 = 0{,}98 $\n",
        "* $\\beta_4 = 1   $\n",
        "* $\\beta_5 = 1{,}97 $\n",
        "\n",
        "<p align='justify'>A <b>equação final</b> do modelo obtida com as variáveis explicativas e os respectivos coeficientes é:\n",
        "\n",
        "$$Y = 1{,}96 + 0{,}84x_2 + 0{,}98x_3 + x_4 + 1{,}97x_5 $$\n",
        "\n",
        "</p>\n",
        "\n",
        "#Interpretação:\n",
        "<p align='justify'> $\\beta_1$, o <b>intercepto</b> representa o efeito médio em Y (Score) quando todas as variáveis explicativas são excluídas do modelo. Ou seja, se $x_2$ (GDP per capita), $x_3$ (Social support), $x_4$ (Healthy life expectancy) e $x_5$(Freedom to make life choices) forem nulos, a pontuação da <b>felicidade</b> será 1.96 .</p>\n",
        "<p align='justify'>Os demais coeficientes de regressão $\\beta_i , 2<=i<=5$ representam o efeito direto da <b>variação de uma unidade</b> em $x_i$ sobre o valor médio de $Y$, excluindo-se os efeitos que $x_j , j \\ne i$ possam causar sobre a média de $Y$. Por exemplo, o efeito do aumento de uma unidade em $x_2$ (GDP per capita) enquanto todos os outros coeficientes $x_3$,$x_4$ e $x_5$ se mantêm constantes.</p>\n",
        "\n",
        "#Resultados:\n",
        "<p align='justify'>Perceba que o valor de r2_score passou de $r2_s \\approx 0{,}63$ para $r2_s \\approx 0{,}87$. </p>\n",
        "\n",
        "<p align='justify'>Os outros resultados são uma reafirmação do parágrafo anterior com dados.</p>\n",
        "\n",
        "<p align='justify'><b>Intercepto → </b> Excluindo o efeito das variáveis explicativas ($x_2=x_3=x_4=x_5=0$) o efeito médio no Score (pontuação de felicidade) é de <b>1.96</b> pontos.</p>\n",
        "\n",
        "<p align='justify'><b>GDP per capita  →</b> Mantendo-se os valores de  $x_3$ (Social support), $x_4$ (Healthy life expectancy) e $x_5$(Freedom to make life choices) constantes, o acréscimo de 1 ponto em \"GDP per capita\" gera uma variação média no Score  de <b> 0.84 </b>  pontos.</p>\n",
        "\n",
        "<p align='justify'><b>Social support →</b> Mantendo-se os valores de  $x_2$ (GDP per capita), $x_4$ (Healthy life expectancy) e $x_5$(Freedom to make life choices) constantes, o acréscimo de 1 ponto em \"Social support\" gera uma variação média no Score  de <b> 0.98 </b>  pontos.</p>\n",
        "\n",
        "<p align='justify'><b>Healthy life expectancy →</b> Mantendo-se os valores de $x_2$ (GDP per capita),  $x_3$ (Social support) e $x_5$(Freedom to make life choices) constantes, o acréscimo de 1 ponto em \"Healthy life expectancy\" gera uma variação média no Score  de <b> 1 </b>  ponto.</p>\n",
        "\n",
        "<p align='justify'><b>Freedom to make life choices →</b> Mantendo-se os valores de $x_2$ (GDP per capita), $x_3$ (Social support), $x_4$ (Healthy life expectancy) constantes, o acréscimo de 1 ponto em \"Freedom to make life choices\" gera uma variação média no Score  de <b> 1.97 </b>  pontos.</p>"
      ]
    }
  ]
}